{
 "cells": [
  {
   "cell_type": "code",
   "id": "initial_id",
   "metadata": {
    "collapsed": true,
    "ExecuteTime": {
     "end_time": "2025-04-22T16:20:06.926958Z",
     "start_time": "2025-04-22T16:20:06.922921Z"
    }
   },
   "source": [
    "import numpy as np\n",
    "import pandas as pd\n",
    "import matplotlib.pyplot as plt\n",
    "import seaborn as sns"
   ],
   "outputs": [],
   "execution_count": 42
  },
  {
   "metadata": {
    "ExecuteTime": {
     "end_time": "2025-04-22T16:20:07.072588Z",
     "start_time": "2025-04-22T16:20:06.974875Z"
    }
   },
   "cell_type": "code",
   "source": "df = pd.read_csv('data/raw_data.csv')",
   "id": "65a7cababdc2c0df",
   "outputs": [],
   "execution_count": 43
  },
  {
   "metadata": {
    "ExecuteTime": {
     "end_time": "2025-04-22T16:20:07.121148Z",
     "start_time": "2025-04-22T16:20:07.108380Z"
    }
   },
   "cell_type": "code",
   "source": "df.head()",
   "id": "2d1b13204a44894",
   "outputs": [
    {
     "data": {
      "text/plain": [
       "   email_id   email_text email_version  hour    weekday user_country  \\\n",
       "0     85120  short_email  personalized     2     Sunday           US   \n",
       "1    966622   long_email  personalized    12     Sunday           UK   \n",
       "2    777221   long_email  personalized    11  Wednesday           US   \n",
       "3    493711  short_email       generic     6     Monday           UK   \n",
       "4    106887   long_email       generic    14     Monday           US   \n",
       "\n",
       "   user_past_purchases  opened  clicked  \n",
       "0                    5       0        0  \n",
       "1                    2       1        1  \n",
       "2                    2       0        0  \n",
       "3                    1       0        0  \n",
       "4                    6       0        0  "
      ],
      "text/html": [
       "<div>\n",
       "<style scoped>\n",
       "    .dataframe tbody tr th:only-of-type {\n",
       "        vertical-align: middle;\n",
       "    }\n",
       "\n",
       "    .dataframe tbody tr th {\n",
       "        vertical-align: top;\n",
       "    }\n",
       "\n",
       "    .dataframe thead th {\n",
       "        text-align: right;\n",
       "    }\n",
       "</style>\n",
       "<table border=\"1\" class=\"dataframe\">\n",
       "  <thead>\n",
       "    <tr style=\"text-align: right;\">\n",
       "      <th></th>\n",
       "      <th>email_id</th>\n",
       "      <th>email_text</th>\n",
       "      <th>email_version</th>\n",
       "      <th>hour</th>\n",
       "      <th>weekday</th>\n",
       "      <th>user_country</th>\n",
       "      <th>user_past_purchases</th>\n",
       "      <th>opened</th>\n",
       "      <th>clicked</th>\n",
       "    </tr>\n",
       "  </thead>\n",
       "  <tbody>\n",
       "    <tr>\n",
       "      <th>0</th>\n",
       "      <td>85120</td>\n",
       "      <td>short_email</td>\n",
       "      <td>personalized</td>\n",
       "      <td>2</td>\n",
       "      <td>Sunday</td>\n",
       "      <td>US</td>\n",
       "      <td>5</td>\n",
       "      <td>0</td>\n",
       "      <td>0</td>\n",
       "    </tr>\n",
       "    <tr>\n",
       "      <th>1</th>\n",
       "      <td>966622</td>\n",
       "      <td>long_email</td>\n",
       "      <td>personalized</td>\n",
       "      <td>12</td>\n",
       "      <td>Sunday</td>\n",
       "      <td>UK</td>\n",
       "      <td>2</td>\n",
       "      <td>1</td>\n",
       "      <td>1</td>\n",
       "    </tr>\n",
       "    <tr>\n",
       "      <th>2</th>\n",
       "      <td>777221</td>\n",
       "      <td>long_email</td>\n",
       "      <td>personalized</td>\n",
       "      <td>11</td>\n",
       "      <td>Wednesday</td>\n",
       "      <td>US</td>\n",
       "      <td>2</td>\n",
       "      <td>0</td>\n",
       "      <td>0</td>\n",
       "    </tr>\n",
       "    <tr>\n",
       "      <th>3</th>\n",
       "      <td>493711</td>\n",
       "      <td>short_email</td>\n",
       "      <td>generic</td>\n",
       "      <td>6</td>\n",
       "      <td>Monday</td>\n",
       "      <td>UK</td>\n",
       "      <td>1</td>\n",
       "      <td>0</td>\n",
       "      <td>0</td>\n",
       "    </tr>\n",
       "    <tr>\n",
       "      <th>4</th>\n",
       "      <td>106887</td>\n",
       "      <td>long_email</td>\n",
       "      <td>generic</td>\n",
       "      <td>14</td>\n",
       "      <td>Monday</td>\n",
       "      <td>US</td>\n",
       "      <td>6</td>\n",
       "      <td>0</td>\n",
       "      <td>0</td>\n",
       "    </tr>\n",
       "  </tbody>\n",
       "</table>\n",
       "</div>"
      ]
     },
     "execution_count": 44,
     "metadata": {},
     "output_type": "execute_result"
    }
   ],
   "execution_count": 44
  },
  {
   "metadata": {
    "ExecuteTime": {
     "end_time": "2025-04-22T16:20:07.204408Z",
     "start_time": "2025-04-22T16:20:07.198877Z"
    }
   },
   "cell_type": "code",
   "source": "misleading_condition = (df['opened'] == 0) & (df['clicked'] == 1)",
   "id": "2d56941f8b59cf5e",
   "outputs": [],
   "execution_count": 45
  },
  {
   "metadata": {
    "ExecuteTime": {
     "end_time": "2025-04-22T16:20:07.272926Z",
     "start_time": "2025-04-22T16:20:07.253867Z"
    }
   },
   "cell_type": "code",
   "source": "df = df[~misleading_condition].reset_index(drop=True)",
   "id": "267964d0856266fb",
   "outputs": [],
   "execution_count": 46
  },
  {
   "metadata": {
    "ExecuteTime": {
     "end_time": "2025-04-22T16:20:07.378575Z",
     "start_time": "2025-04-22T16:20:07.362483Z"
    }
   },
   "cell_type": "code",
   "source": "df",
   "id": "85ab6c57320ae935",
   "outputs": [
    {
     "data": {
      "text/plain": [
       "       email_id   email_text email_version  hour    weekday user_country  \\\n",
       "0         85120  short_email  personalized     2     Sunday           US   \n",
       "1        966622   long_email  personalized    12     Sunday           UK   \n",
       "2        777221   long_email  personalized    11  Wednesday           US   \n",
       "3        493711  short_email       generic     6     Monday           UK   \n",
       "4        106887   long_email       generic    14     Monday           US   \n",
       "...         ...          ...           ...   ...        ...          ...   \n",
       "99945    803504  short_email  personalized     4     Monday           US   \n",
       "99946    899722   long_email  personalized     7   Saturday           US   \n",
       "99947    449610   long_email  personalized    11   Saturday           UK   \n",
       "99948     72497  short_email       generic    10     Monday           UK   \n",
       "99949    348333   long_email  personalized     8     Sunday           UK   \n",
       "\n",
       "       user_past_purchases  opened  clicked  \n",
       "0                        5       0        0  \n",
       "1                        2       1        1  \n",
       "2                        2       0        0  \n",
       "3                        1       0        0  \n",
       "4                        6       0        0  \n",
       "...                    ...     ...      ...  \n",
       "99945                    5       0        0  \n",
       "99946                    1       0        0  \n",
       "99947                    6       0        0  \n",
       "99948                    0       0        0  \n",
       "99949                    1       1        1  \n",
       "\n",
       "[99950 rows x 9 columns]"
      ],
      "text/html": [
       "<div>\n",
       "<style scoped>\n",
       "    .dataframe tbody tr th:only-of-type {\n",
       "        vertical-align: middle;\n",
       "    }\n",
       "\n",
       "    .dataframe tbody tr th {\n",
       "        vertical-align: top;\n",
       "    }\n",
       "\n",
       "    .dataframe thead th {\n",
       "        text-align: right;\n",
       "    }\n",
       "</style>\n",
       "<table border=\"1\" class=\"dataframe\">\n",
       "  <thead>\n",
       "    <tr style=\"text-align: right;\">\n",
       "      <th></th>\n",
       "      <th>email_id</th>\n",
       "      <th>email_text</th>\n",
       "      <th>email_version</th>\n",
       "      <th>hour</th>\n",
       "      <th>weekday</th>\n",
       "      <th>user_country</th>\n",
       "      <th>user_past_purchases</th>\n",
       "      <th>opened</th>\n",
       "      <th>clicked</th>\n",
       "    </tr>\n",
       "  </thead>\n",
       "  <tbody>\n",
       "    <tr>\n",
       "      <th>0</th>\n",
       "      <td>85120</td>\n",
       "      <td>short_email</td>\n",
       "      <td>personalized</td>\n",
       "      <td>2</td>\n",
       "      <td>Sunday</td>\n",
       "      <td>US</td>\n",
       "      <td>5</td>\n",
       "      <td>0</td>\n",
       "      <td>0</td>\n",
       "    </tr>\n",
       "    <tr>\n",
       "      <th>1</th>\n",
       "      <td>966622</td>\n",
       "      <td>long_email</td>\n",
       "      <td>personalized</td>\n",
       "      <td>12</td>\n",
       "      <td>Sunday</td>\n",
       "      <td>UK</td>\n",
       "      <td>2</td>\n",
       "      <td>1</td>\n",
       "      <td>1</td>\n",
       "    </tr>\n",
       "    <tr>\n",
       "      <th>2</th>\n",
       "      <td>777221</td>\n",
       "      <td>long_email</td>\n",
       "      <td>personalized</td>\n",
       "      <td>11</td>\n",
       "      <td>Wednesday</td>\n",
       "      <td>US</td>\n",
       "      <td>2</td>\n",
       "      <td>0</td>\n",
       "      <td>0</td>\n",
       "    </tr>\n",
       "    <tr>\n",
       "      <th>3</th>\n",
       "      <td>493711</td>\n",
       "      <td>short_email</td>\n",
       "      <td>generic</td>\n",
       "      <td>6</td>\n",
       "      <td>Monday</td>\n",
       "      <td>UK</td>\n",
       "      <td>1</td>\n",
       "      <td>0</td>\n",
       "      <td>0</td>\n",
       "    </tr>\n",
       "    <tr>\n",
       "      <th>4</th>\n",
       "      <td>106887</td>\n",
       "      <td>long_email</td>\n",
       "      <td>generic</td>\n",
       "      <td>14</td>\n",
       "      <td>Monday</td>\n",
       "      <td>US</td>\n",
       "      <td>6</td>\n",
       "      <td>0</td>\n",
       "      <td>0</td>\n",
       "    </tr>\n",
       "    <tr>\n",
       "      <th>...</th>\n",
       "      <td>...</td>\n",
       "      <td>...</td>\n",
       "      <td>...</td>\n",
       "      <td>...</td>\n",
       "      <td>...</td>\n",
       "      <td>...</td>\n",
       "      <td>...</td>\n",
       "      <td>...</td>\n",
       "      <td>...</td>\n",
       "    </tr>\n",
       "    <tr>\n",
       "      <th>99945</th>\n",
       "      <td>803504</td>\n",
       "      <td>short_email</td>\n",
       "      <td>personalized</td>\n",
       "      <td>4</td>\n",
       "      <td>Monday</td>\n",
       "      <td>US</td>\n",
       "      <td>5</td>\n",
       "      <td>0</td>\n",
       "      <td>0</td>\n",
       "    </tr>\n",
       "    <tr>\n",
       "      <th>99946</th>\n",
       "      <td>899722</td>\n",
       "      <td>long_email</td>\n",
       "      <td>personalized</td>\n",
       "      <td>7</td>\n",
       "      <td>Saturday</td>\n",
       "      <td>US</td>\n",
       "      <td>1</td>\n",
       "      <td>0</td>\n",
       "      <td>0</td>\n",
       "    </tr>\n",
       "    <tr>\n",
       "      <th>99947</th>\n",
       "      <td>449610</td>\n",
       "      <td>long_email</td>\n",
       "      <td>personalized</td>\n",
       "      <td>11</td>\n",
       "      <td>Saturday</td>\n",
       "      <td>UK</td>\n",
       "      <td>6</td>\n",
       "      <td>0</td>\n",
       "      <td>0</td>\n",
       "    </tr>\n",
       "    <tr>\n",
       "      <th>99948</th>\n",
       "      <td>72497</td>\n",
       "      <td>short_email</td>\n",
       "      <td>generic</td>\n",
       "      <td>10</td>\n",
       "      <td>Monday</td>\n",
       "      <td>UK</td>\n",
       "      <td>0</td>\n",
       "      <td>0</td>\n",
       "      <td>0</td>\n",
       "    </tr>\n",
       "    <tr>\n",
       "      <th>99949</th>\n",
       "      <td>348333</td>\n",
       "      <td>long_email</td>\n",
       "      <td>personalized</td>\n",
       "      <td>8</td>\n",
       "      <td>Sunday</td>\n",
       "      <td>UK</td>\n",
       "      <td>1</td>\n",
       "      <td>1</td>\n",
       "      <td>1</td>\n",
       "    </tr>\n",
       "  </tbody>\n",
       "</table>\n",
       "<p>99950 rows × 9 columns</p>\n",
       "</div>"
      ]
     },
     "execution_count": 47,
     "metadata": {},
     "output_type": "execute_result"
    }
   ],
   "execution_count": 47
  },
  {
   "metadata": {
    "ExecuteTime": {
     "end_time": "2025-04-22T16:20:07.490061Z",
     "start_time": "2025-04-22T16:20:07.486604Z"
    }
   },
   "cell_type": "code",
   "source": [
    "from sklearn.preprocessing import OrdinalEncoder, OneHotEncoder, StandardScaler\n",
    "from utils.custom_transformer import CustomTransformer, TransformerLambda\n",
    "from sklearn.model_selection import train_test_split"
   ],
   "id": "44045d1304ed13e6",
   "outputs": [],
   "execution_count": 48
  },
  {
   "metadata": {
    "ExecuteTime": {
     "end_time": "2025-04-22T16:20:07.543307Z",
     "start_time": "2025-04-22T16:20:07.536029Z"
    }
   },
   "cell_type": "code",
   "source": "df[\"hour\"].unique()",
   "id": "e5fd36526ac6726c",
   "outputs": [
    {
     "data": {
      "text/plain": [
       "array([ 2, 12, 11,  6, 14,  9,  8,  5, 23,  7, 10,  3,  4,  1, 13, 15, 17,\n",
       "       16, 20, 18, 19, 22, 21, 24])"
      ]
     },
     "execution_count": 49,
     "metadata": {},
     "output_type": "execute_result"
    }
   ],
   "execution_count": 49
  },
  {
   "metadata": {
    "ExecuteTime": {
     "end_time": "2025-04-22T16:20:07.640201Z",
     "start_time": "2025-04-22T16:20:07.633937Z"
    }
   },
   "cell_type": "code",
   "source": [
    "df[\"hour\"] = df[\"hour\"] - 1\n",
    "df.rename(columns={\"hour\": \"hour_sin\"}, inplace=True)\n",
    "df[\"hour_cos\"] = df[\"hour_sin\"]"
   ],
   "id": "d914bde12468d1c4",
   "outputs": [],
   "execution_count": 50
  },
  {
   "metadata": {
    "ExecuteTime": {
     "end_time": "2025-04-22T16:20:07.738058Z",
     "start_time": "2025-04-22T16:20:07.732852Z"
    }
   },
   "cell_type": "code",
   "source": [
    "ohe = OneHotEncoder(drop='first', sparse_output=False)\n",
    "oe = OrdinalEncoder(categories=[[\"Monday\", \"Tuesday\", \"Wednesday\",\"Thursday\",\"Friday\",\"Saturday\",\"Sunday\"]])\n",
    "log_trf = TransformerLambda(func=np.log1p)\n",
    "sc = StandardScaler()\n",
    "hsine = TransformerLambda(func=lambda x: np.sin(2 * np.pi * x / 24))\n",
    "hcos = TransformerLambda(func=lambda x: np.cos(2 * np.pi * x / 24))"
   ],
   "id": "88cd7a0096b1a26a",
   "outputs": [],
   "execution_count": 51
  },
  {
   "metadata": {
    "ExecuteTime": {
     "end_time": "2025-04-22T16:20:07.786606Z",
     "start_time": "2025-04-22T16:20:07.782337Z"
    }
   },
   "cell_type": "code",
   "source": [
    "ctf = CustomTransformer(\n",
    "    transformers=[\n",
    "        (\"ohe\", ohe, [\"email_text\", \"email_version\", \"user_country\"]),\n",
    "        (\"oe\", oe, [\"weekday\"]),\n",
    "        (\"log_trf\", log_trf, [\"user_past_purchases\"]),\n",
    "        (\"scale\", sc, [\"user_past_purchases\"]),\n",
    "        (\"h_sine\", hsine, [\"hour_sin\"]),\n",
    "        (\"h_cos\", hcos, [\"hour_cos\"]),\n",
    "    ]\n",
    ")"
   ],
   "id": "2dfed9bd90f49b68",
   "outputs": [],
   "execution_count": 52
  },
  {
   "metadata": {
    "ExecuteTime": {
     "end_time": "2025-04-22T16:20:07.844132Z",
     "start_time": "2025-04-22T16:20:07.831928Z"
    }
   },
   "cell_type": "code",
   "source": "X, y = df.drop(columns = [\"email_id\", \"opened\", \"clicked\"]), df[[\"opened\", \"clicked\"]]",
   "id": "d390be2e6f682d41",
   "outputs": [],
   "execution_count": 53
  },
  {
   "metadata": {
    "ExecuteTime": {
     "end_time": "2025-04-22T16:20:07.907361Z",
     "start_time": "2025-04-22T16:20:07.887461Z"
    }
   },
   "cell_type": "code",
   "source": "X_train, X_test, y_train, y_test = train_test_split(X, y, test_size=0.2, random_state=42)",
   "id": "bb55adee4920c06b",
   "outputs": [],
   "execution_count": 54
  },
  {
   "metadata": {
    "ExecuteTime": {
     "end_time": "2025-04-22T16:20:08.096440Z",
     "start_time": "2025-04-22T16:20:07.936654Z"
    }
   },
   "cell_type": "code",
   "source": [
    "X_train = ctf.fit_transform(X_train)\n",
    "X_test = ctf.transform(X_test)"
   ],
   "id": "a5fdd376c6443e12",
   "outputs": [],
   "execution_count": 55
  },
  {
   "metadata": {
    "ExecuteTime": {
     "end_time": "2025-04-22T16:20:08.145346Z",
     "start_time": "2025-04-22T16:20:08.128665Z"
    }
   },
   "cell_type": "code",
   "source": "X_train",
   "id": "d22160a150d15256",
   "outputs": [
    {
     "data": {
      "text/plain": [
       "       hour_sin  weekday  user_past_purchases      hour_cos  \\\n",
       "36546  0.500000      5.0             1.539891 -8.660254e-01   \n",
       "72451  0.258819      4.0             0.815620 -9.659258e-01   \n",
       "77105  1.000000      3.0             0.063641  6.123234e-17   \n",
       "7576   0.866025      0.0            -0.322929 -5.000000e-01   \n",
       "50926  0.500000      5.0             0.363488 -8.660254e-01   \n",
       "...         ...      ...                  ...           ...   \n",
       "6265  -0.707107      5.0             0.063641 -7.071068e-01   \n",
       "54886  1.000000      6.0            -1.799179  6.123234e-17   \n",
       "76820  0.707107      6.0            -1.799179 -7.071068e-01   \n",
       "860    0.000000      5.0             0.063641  1.000000e+00   \n",
       "15795  0.965926      5.0            -0.867769 -2.588190e-01   \n",
       "\n",
       "       email_text_short_email  email_version_personalized  user_country_FR  \\\n",
       "36546                     1.0                         1.0              0.0   \n",
       "72451                     1.0                         0.0              0.0   \n",
       "77105                     0.0                         1.0              0.0   \n",
       "7576                      0.0                         0.0              0.0   \n",
       "50926                     1.0                         0.0              0.0   \n",
       "...                       ...                         ...              ...   \n",
       "6265                      1.0                         1.0              0.0   \n",
       "54886                     1.0                         1.0              0.0   \n",
       "76820                     1.0                         0.0              0.0   \n",
       "860                       1.0                         1.0              0.0   \n",
       "15795                     1.0                         1.0              1.0   \n",
       "\n",
       "       user_country_UK  user_country_US  \n",
       "36546              0.0              1.0  \n",
       "72451              0.0              1.0  \n",
       "77105              0.0              1.0  \n",
       "7576               0.0              1.0  \n",
       "50926              1.0              0.0  \n",
       "...                ...              ...  \n",
       "6265               0.0              1.0  \n",
       "54886              0.0              1.0  \n",
       "76820              0.0              1.0  \n",
       "860                0.0              1.0  \n",
       "15795              0.0              0.0  \n",
       "\n",
       "[79960 rows x 9 columns]"
      ],
      "text/html": [
       "<div>\n",
       "<style scoped>\n",
       "    .dataframe tbody tr th:only-of-type {\n",
       "        vertical-align: middle;\n",
       "    }\n",
       "\n",
       "    .dataframe tbody tr th {\n",
       "        vertical-align: top;\n",
       "    }\n",
       "\n",
       "    .dataframe thead th {\n",
       "        text-align: right;\n",
       "    }\n",
       "</style>\n",
       "<table border=\"1\" class=\"dataframe\">\n",
       "  <thead>\n",
       "    <tr style=\"text-align: right;\">\n",
       "      <th></th>\n",
       "      <th>hour_sin</th>\n",
       "      <th>weekday</th>\n",
       "      <th>user_past_purchases</th>\n",
       "      <th>hour_cos</th>\n",
       "      <th>email_text_short_email</th>\n",
       "      <th>email_version_personalized</th>\n",
       "      <th>user_country_FR</th>\n",
       "      <th>user_country_UK</th>\n",
       "      <th>user_country_US</th>\n",
       "    </tr>\n",
       "  </thead>\n",
       "  <tbody>\n",
       "    <tr>\n",
       "      <th>36546</th>\n",
       "      <td>0.500000</td>\n",
       "      <td>5.0</td>\n",
       "      <td>1.539891</td>\n",
       "      <td>-8.660254e-01</td>\n",
       "      <td>1.0</td>\n",
       "      <td>1.0</td>\n",
       "      <td>0.0</td>\n",
       "      <td>0.0</td>\n",
       "      <td>1.0</td>\n",
       "    </tr>\n",
       "    <tr>\n",
       "      <th>72451</th>\n",
       "      <td>0.258819</td>\n",
       "      <td>4.0</td>\n",
       "      <td>0.815620</td>\n",
       "      <td>-9.659258e-01</td>\n",
       "      <td>1.0</td>\n",
       "      <td>0.0</td>\n",
       "      <td>0.0</td>\n",
       "      <td>0.0</td>\n",
       "      <td>1.0</td>\n",
       "    </tr>\n",
       "    <tr>\n",
       "      <th>77105</th>\n",
       "      <td>1.000000</td>\n",
       "      <td>3.0</td>\n",
       "      <td>0.063641</td>\n",
       "      <td>6.123234e-17</td>\n",
       "      <td>0.0</td>\n",
       "      <td>1.0</td>\n",
       "      <td>0.0</td>\n",
       "      <td>0.0</td>\n",
       "      <td>1.0</td>\n",
       "    </tr>\n",
       "    <tr>\n",
       "      <th>7576</th>\n",
       "      <td>0.866025</td>\n",
       "      <td>0.0</td>\n",
       "      <td>-0.322929</td>\n",
       "      <td>-5.000000e-01</td>\n",
       "      <td>0.0</td>\n",
       "      <td>0.0</td>\n",
       "      <td>0.0</td>\n",
       "      <td>0.0</td>\n",
       "      <td>1.0</td>\n",
       "    </tr>\n",
       "    <tr>\n",
       "      <th>50926</th>\n",
       "      <td>0.500000</td>\n",
       "      <td>5.0</td>\n",
       "      <td>0.363488</td>\n",
       "      <td>-8.660254e-01</td>\n",
       "      <td>1.0</td>\n",
       "      <td>0.0</td>\n",
       "      <td>0.0</td>\n",
       "      <td>1.0</td>\n",
       "      <td>0.0</td>\n",
       "    </tr>\n",
       "    <tr>\n",
       "      <th>...</th>\n",
       "      <td>...</td>\n",
       "      <td>...</td>\n",
       "      <td>...</td>\n",
       "      <td>...</td>\n",
       "      <td>...</td>\n",
       "      <td>...</td>\n",
       "      <td>...</td>\n",
       "      <td>...</td>\n",
       "      <td>...</td>\n",
       "    </tr>\n",
       "    <tr>\n",
       "      <th>6265</th>\n",
       "      <td>-0.707107</td>\n",
       "      <td>5.0</td>\n",
       "      <td>0.063641</td>\n",
       "      <td>-7.071068e-01</td>\n",
       "      <td>1.0</td>\n",
       "      <td>1.0</td>\n",
       "      <td>0.0</td>\n",
       "      <td>0.0</td>\n",
       "      <td>1.0</td>\n",
       "    </tr>\n",
       "    <tr>\n",
       "      <th>54886</th>\n",
       "      <td>1.000000</td>\n",
       "      <td>6.0</td>\n",
       "      <td>-1.799179</td>\n",
       "      <td>6.123234e-17</td>\n",
       "      <td>1.0</td>\n",
       "      <td>1.0</td>\n",
       "      <td>0.0</td>\n",
       "      <td>0.0</td>\n",
       "      <td>1.0</td>\n",
       "    </tr>\n",
       "    <tr>\n",
       "      <th>76820</th>\n",
       "      <td>0.707107</td>\n",
       "      <td>6.0</td>\n",
       "      <td>-1.799179</td>\n",
       "      <td>-7.071068e-01</td>\n",
       "      <td>1.0</td>\n",
       "      <td>0.0</td>\n",
       "      <td>0.0</td>\n",
       "      <td>0.0</td>\n",
       "      <td>1.0</td>\n",
       "    </tr>\n",
       "    <tr>\n",
       "      <th>860</th>\n",
       "      <td>0.000000</td>\n",
       "      <td>5.0</td>\n",
       "      <td>0.063641</td>\n",
       "      <td>1.000000e+00</td>\n",
       "      <td>1.0</td>\n",
       "      <td>1.0</td>\n",
       "      <td>0.0</td>\n",
       "      <td>0.0</td>\n",
       "      <td>1.0</td>\n",
       "    </tr>\n",
       "    <tr>\n",
       "      <th>15795</th>\n",
       "      <td>0.965926</td>\n",
       "      <td>5.0</td>\n",
       "      <td>-0.867769</td>\n",
       "      <td>-2.588190e-01</td>\n",
       "      <td>1.0</td>\n",
       "      <td>1.0</td>\n",
       "      <td>1.0</td>\n",
       "      <td>0.0</td>\n",
       "      <td>0.0</td>\n",
       "    </tr>\n",
       "  </tbody>\n",
       "</table>\n",
       "<p>79960 rows × 9 columns</p>\n",
       "</div>"
      ]
     },
     "execution_count": 56,
     "metadata": {},
     "output_type": "execute_result"
    }
   ],
   "execution_count": 56
  },
  {
   "metadata": {
    "ExecuteTime": {
     "end_time": "2025-04-22T16:20:08.218845Z",
     "start_time": "2025-04-22T16:20:08.216391Z"
    }
   },
   "cell_type": "code",
   "source": "",
   "id": "4fedb88ef1628f9e",
   "outputs": [],
   "execution_count": null
  },
  {
   "metadata": {
    "ExecuteTime": {
     "end_time": "2025-04-22T16:20:08.263055Z",
     "start_time": "2025-04-22T16:20:08.258959Z"
    }
   },
   "cell_type": "code",
   "source": "import os",
   "id": "a4a61f0340d45b05",
   "outputs": [],
   "execution_count": 57
  },
  {
   "metadata": {
    "ExecuteTime": {
     "end_time": "2025-04-22T16:20:08.420595Z",
     "start_time": "2025-04-22T16:20:08.417106Z"
    }
   },
   "cell_type": "code",
   "source": "os.makedirs('data/preprocessed', exist_ok=True)",
   "id": "a634e1ee6644dde9",
   "outputs": [],
   "execution_count": 58
  },
  {
   "metadata": {
    "ExecuteTime": {
     "end_time": "2025-04-22T16:20:09.451484Z",
     "start_time": "2025-04-22T16:20:08.460838Z"
    }
   },
   "cell_type": "code",
   "source": [
    "X_train.to_csv('/home/kraten/Desktop/dev/sagar/data/preprocessed/X_train.csv', index=False)\n",
    "X_test.to_csv('/home/kraten/Desktop/dev/sagar/data/preprocessed/X_test.csv', index=False)\n",
    "y_train.to_csv('/home/kraten/Desktop/dev/sagar/data/preprocessed/y_train.csv', index=False)\n",
    "y_test.to_csv('/home/kraten/Desktop/dev/sagar/data/preprocessed/y_test.csv', index=False)"
   ],
   "id": "a998c9de36342cca",
   "outputs": [],
   "execution_count": 59
  },
  {
   "metadata": {
    "ExecuteTime": {
     "end_time": "2025-04-22T16:20:09.487948Z",
     "start_time": "2025-04-22T16:20:09.484803Z"
    }
   },
   "cell_type": "code",
   "source": [
    "del X_train\n",
    "del X_test\n",
    "del y_train\n",
    "del y_test"
   ],
   "id": "6bb4201db00089ed",
   "outputs": [],
   "execution_count": 60
  },
  {
   "metadata": {
    "ExecuteTime": {
     "end_time": "2025-04-22T16:20:09.531589Z",
     "start_time": "2025-04-22T16:20:09.528876Z"
    }
   },
   "cell_type": "code",
   "source": "",
   "id": "c2d0af2a9484fbf7",
   "outputs": [],
   "execution_count": null
  },
  {
   "metadata": {
    "ExecuteTime": {
     "end_time": "2025-04-22T16:20:09.585265Z",
     "start_time": "2025-04-22T16:20:09.579911Z"
    }
   },
   "cell_type": "code",
   "source": "df.columns",
   "id": "e3c2fbe3aab2fcd4",
   "outputs": [
    {
     "data": {
      "text/plain": [
       "Index(['email_id', 'email_text', 'email_version', 'hour_sin', 'weekday',\n",
       "       'user_country', 'user_past_purchases', 'opened', 'clicked', 'hour_cos'],\n",
       "      dtype='object')"
      ]
     },
     "execution_count": 61,
     "metadata": {},
     "output_type": "execute_result"
    }
   ],
   "execution_count": 61
  },
  {
   "metadata": {
    "ExecuteTime": {
     "end_time": "2025-04-22T16:20:09.634361Z",
     "start_time": "2025-04-22T16:20:09.631447Z"
    }
   },
   "cell_type": "code",
   "source": "",
   "id": "e89e1d3670930b8b",
   "outputs": [],
   "execution_count": null
  }
 ],
 "metadata": {
  "kernelspec": {
   "display_name": "Python 3",
   "language": "python",
   "name": "python3"
  },
  "language_info": {
   "codemirror_mode": {
    "name": "ipython",
    "version": 2
   },
   "file_extension": ".py",
   "mimetype": "text/x-python",
   "name": "python",
   "nbconvert_exporter": "python",
   "pygments_lexer": "ipython2",
   "version": "2.7.6"
  }
 },
 "nbformat": 4,
 "nbformat_minor": 5
}
